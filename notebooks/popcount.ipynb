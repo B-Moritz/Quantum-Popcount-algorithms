{
 "cells": [
  {
   "cell_type": "code",
   "execution_count": 1,
   "metadata": {},
   "outputs": [],
   "source": [
    "import qiskit\n",
    "import numpy as np\n",
    "import matplotlib.pyplot as plt\n",
    "from qiskit_aer.primitives import Sampler"
   ]
  },
  {
   "cell_type": "code",
   "execution_count": 7,
   "metadata": {},
   "outputs": [
    {
     "data": {
      "text/plain": [
       "array([[0, 0],\n",
       "       [0, 1],\n",
       "       [1, 0],\n",
       "       [1, 1]])"
      ]
     },
     "execution_count": 7,
     "metadata": {},
     "output_type": "execute_result"
    }
   ],
   "source": [
    "input_table = np.array([[False, False], [False, True], [True, False], [True, True]])\n",
    "input_table.astype(int)"
   ]
  },
  {
   "cell_type": "code",
   "execution_count": 31,
   "metadata": {},
   "outputs": [
    {
     "name": "stdout",
     "output_type": "stream",
     "text": [
      "[False False]\n",
      "[False  True]\n",
      "[ True False]\n",
      "[ True  True]\n"
     ]
    }
   ],
   "source": [
    "results = {}\n",
    "for input_bits in input_table:\n",
    "    print(input_bits)\n",
    "    qreg = qiskit.QuantumRegister(3, name=\"qreg\")\n",
    "    creg = qiskit.ClassicalRegister(1, name=\"creg\")\n",
    "    qc = qiskit.QuantumCircuit(qreg, creg)\n",
    "\n",
    "    # Prepare circuit\n",
    "    if input_bits[0]: \n",
    "        qc.x(qreg[0])\n",
    "    if input_bits[1]:\n",
    "        qc.x(qreg[1])\n",
    "\n",
    "    qc.x(qreg[0])\n",
    "    qc.cx(qreg[1], qreg[2])\n",
    "    qc.cx(qreg[0], qreg[2])\n",
    "    qc.measure(qreg[2], creg)\n",
    "    qc.draw(\"mpl\")\n",
    "\n",
    "    result = Sampler().run([qc], shots=5000).result()\n",
    "    results[\"\".join(input_bits.astype(int).astype(str))] = result"
   ]
  },
  {
   "cell_type": "code",
   "execution_count": 32,
   "metadata": {},
   "outputs": [
    {
     "data": {
      "text/plain": [
       "{'00': SamplerResult(quasi_dists=[{1: 1.0}], metadata=[{'shots': 5000, 'simulator_metadata': {'batched_shots_optimization': False, 'required_memory_mb': 0, 'method': 'stabilizer', 'active_input_qubits': [0, 1, 2], 'device': 'CPU', 'remapped_qubits': False, 'num_qubits': 3, 'num_clbits': 1, 'time_taken': 0.0106395, 'sample_measure_time': 0.0022018, 'input_qubit_map': [[0, 0], [1, 1], [2, 2]], 'max_memory_mb': 14182, 'measure_sampling': True, 'noise': 'ideal', 'parallel_shots': 1, 'parallel_state_update': 16, 'runtime_parameter_bind': False, 'num_bind_params': 1, 'fusion': {'enabled': False}}}]),\n",
       " '01': SamplerResult(quasi_dists=[{0: 1.0}], metadata=[{'shots': 5000, 'simulator_metadata': {'batched_shots_optimization': False, 'required_memory_mb': 0, 'method': 'stabilizer', 'active_input_qubits': [0, 1, 2], 'device': 'CPU', 'remapped_qubits': False, 'num_qubits': 3, 'num_clbits': 1, 'time_taken': 0.0128246, 'sample_measure_time': 0.0038941, 'input_qubit_map': [[0, 0], [1, 1], [2, 2]], 'max_memory_mb': 14182, 'measure_sampling': True, 'noise': 'ideal', 'parallel_shots': 1, 'parallel_state_update': 16, 'runtime_parameter_bind': False, 'num_bind_params': 1, 'fusion': {'enabled': False}}}]),\n",
       " '10': SamplerResult(quasi_dists=[{0: 1.0}], metadata=[{'shots': 5000, 'simulator_metadata': {'batched_shots_optimization': False, 'required_memory_mb': 0, 'method': 'stabilizer', 'active_input_qubits': [0, 1, 2], 'device': 'CPU', 'remapped_qubits': False, 'num_qubits': 3, 'num_clbits': 1, 'time_taken': 0.0123074, 'sample_measure_time': 0.0037196, 'input_qubit_map': [[0, 0], [1, 1], [2, 2]], 'max_memory_mb': 14182, 'measure_sampling': True, 'noise': 'ideal', 'parallel_shots': 1, 'parallel_state_update': 16, 'runtime_parameter_bind': False, 'num_bind_params': 1, 'fusion': {'enabled': False}}}]),\n",
       " '11': SamplerResult(quasi_dists=[{1: 1.0}], metadata=[{'shots': 5000, 'simulator_metadata': {'batched_shots_optimization': False, 'required_memory_mb': 0, 'method': 'stabilizer', 'active_input_qubits': [0, 1, 2], 'device': 'CPU', 'remapped_qubits': False, 'num_qubits': 3, 'num_clbits': 1, 'time_taken': 0.0107898, 'sample_measure_time': 0.0020417, 'input_qubit_map': [[0, 0], [1, 1], [2, 2]], 'max_memory_mb': 14182, 'measure_sampling': True, 'noise': 'ideal', 'parallel_shots': 1, 'parallel_state_update': 16, 'runtime_parameter_bind': False, 'num_bind_params': 1, 'fusion': {'enabled': False}}}])}"
      ]
     },
     "execution_count": 32,
     "metadata": {},
     "output_type": "execute_result"
    }
   ],
   "source": [
    "results"
   ]
  },
  {
   "cell_type": "code",
   "execution_count": 14,
   "metadata": {},
   "outputs": [
    {
     "data": {
      "text/plain": [
       "{1: 1.0}"
      ]
     },
     "execution_count": 14,
     "metadata": {},
     "output_type": "execute_result"
    }
   ],
   "source": [
    "results[\"11\"].quasi_dists[0]"
   ]
  },
  {
   "cell_type": "code",
   "execution_count": 4,
   "metadata": {},
   "outputs": [
    {
     "data": {
      "text/plain": [
       "<BarContainer object of 1 artists>"
      ]
     },
     "execution_count": 4,
     "metadata": {},
     "output_type": "execute_result"
    },
    {
     "data": {
      "image/png": "[encoded data removed]",
      "text/plain": [
       "<Figure size 640x480 with 1 Axes>"
      ]
     },
     "metadata": {},
     "output_type": "display_data"
    }
   ],
   "source": [
    "plot_labels = [bin(label)[2:].zfill(3) for label in result.quasi_dists[0]]\n",
    "plt.title(\"Probability distribution from the simulation\")\n",
    "plt.bar(plot_labels, result.quasi_dists[0].values())"
   ]
  },
  {
   "cell_type": "code",
   "execution_count": null,
   "metadata": {},
   "outputs": [],
   "source": []
  }
 ],
 "metadata": {
  "kernelspec": {
   "display_name": ".venv",
   "language": "python",
   "name": "python3"
  },
  "language_info": {
   "codemirror_mode": {
    "name": "ipython",
    "version": 3
   },
   "file_extension": ".py",
   "mimetype": "text/x-python",
   "name": "python",
   "nbconvert_exporter": "python",
   "pygments_lexer": "ipython3",
   "version": "3.9.13"
  }
 },
 "nbformat": 4,
 "nbformat_minor": 2
}
