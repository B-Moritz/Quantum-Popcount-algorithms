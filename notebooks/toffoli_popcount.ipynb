{
 "cells": [
  {
   "cell_type": "markdown",
   "metadata": {},
   "source": [
    "### Toffoli solution to $y_3$ popcount problems"
   ]
  },
  {
   "cell_type": "markdown",
   "metadata": {},
   "source": [
    "In this notebook we look at how the popcount problem can be solved for j=3. It looks like we can apply the same strategy as with the $y_2$ output where we used the toffoli gate to capture pairs of set bits. \n",
    "The $y_3$ output is also a periodic function like $y_1 = \\omega(z)\\; \\%\\; 2$ where the period is 2 and $y_2 = \\omega(z) \\;\\%\\; 4$ where the period is 4. The $y_3$ has period 8: $y_3 = \\omega(z)\\;\\%\\;8$\n",
    "The $y_2$ output can be solved by probing all possible input qubit pairs with toffolis for $n < 6$ because the toffoli only taking effect if at least two bits are set. Now, for the case n=4 we have only one case where $y_3$ should be set: $z=1111_2$.\n",
    "It is cleare that if we could construct a circuit where all four bits are controll bits and the output is the target, we would have a solution. In this notebook we will invesigate a decomposition of this gate to a gate that uses two toffolis and one X gate."
   ]
  },
  {
   "cell_type": "code",
   "execution_count": 95,
   "metadata": {},
   "outputs": [],
   "source": [
    "import qiskit\n",
    "from qiskit import QuantumRegister, ClassicalRegister, QuantumCircuit\n",
    "import numpy as np\n",
    "import matplotlib.pyplot as plt\n",
    "from qiskit_aer.primitives import Sampler\n",
    "import copy\n",
    "import pandas as pd"
   ]
  },
  {
   "cell_type": "markdown",
   "metadata": {},
   "source": [
    "The spesific problem instance is defined:"
   ]
  },
  {
   "cell_type": "code",
   "execution_count": 96,
   "metadata": {},
   "outputs": [],
   "source": [
    "# problem definition\n",
    "n = 4"
   ]
  },
  {
   "cell_type": "markdown",
   "metadata": {},
   "source": [
    "Function to prepare the initial states of the circuit. It takes a numpy array (input_boolean) containing booleans representing the binary string that should be prepared:"
   ]
  },
  {
   "cell_type": "code",
   "execution_count": 97,
   "metadata": {},
   "outputs": [],
   "source": [
    "def prepare_input_state(input_boolean: np.ndarray, qreg: QuantumRegister, qc: QuantumCircuit): \n",
    "    for i, set_bit in enumerate(np.flip(input_boolean)):\n",
    "        # For each bit in the bit string\n",
    "        if set_bit:\n",
    "            # If the bit is set (True), then apply the bit flip to the corresponding qubit\n",
    "            qc.x(qreg[i])\n",
    "            "
   ]
  },
  {
   "cell_type": "markdown",
   "metadata": {},
   "source": [
    "The following function creates the circuit to solve the n=4 j=3 popcount problem."
   ]
  },
  {
   "cell_type": "code",
   "execution_count": 98,
   "metadata": {},
   "outputs": [],
   "source": [
    "def quad_cnot(qreg: QuantumRegister, qreg_result: QuantumRegister, creg: ClassicalRegister, qc: QuantumCircuit):\n",
    "    # This function takes the quantum circuit as argument and applies the quadrupple cnot gate to solve the n=4, j=3 popcount problem\n",
    "    qc.cx(qreg[2], qreg_result)\n",
    "    qc.x(qreg[2])\n",
    "    qc.ccx(qreg[0], qreg[1], qreg[2])\n",
    "    qc.x(qreg[1])\n",
    "    qc.ccx(qreg_result, qreg[3], qreg[1])\n",
    "    qc.ccx(qreg[1], qreg[2], qreg_result)\n",
    "    qc.measure(qreg_result, creg)"
   ]
  },
  {
   "cell_type": "markdown",
   "metadata": {},
   "source": [
    "The next, cell is used to make a drawing of the circuit before adding input state preparation"
   ]
  },
  {
   "cell_type": "code",
   "execution_count": 99,
   "metadata": {},
   "outputs": [
    {
     "data": {
      "image/png": "[encoded data removed]",
      "text/plain": [
       "<Figure size 759.426x535.111 with 1 Axes>"
      ]
     },
     "execution_count": 99,
     "metadata": {},
     "output_type": "execute_result"
    }
   ],
   "source": [
    "qreg = QuantumRegister(n, name=\"z\")\n",
    "qreg_result = QuantumRegister(1, name=\"y_3\")\n",
    "creg = ClassicalRegister(1, name=\"Result\")\n",
    "qc = QuantumCircuit(qreg, qreg_result, creg, name=\"popcount solution for n=4,j=3\")\n",
    "\n",
    "quad_cnot(qreg, qreg_result, creg, qc)\n",
    "qc.draw(\"mpl\")"
   ]
  },
  {
   "cell_type": "markdown",
   "metadata": {},
   "source": [
    "Next, all different $2^n$ input combinations are generated an stored as numpy array"
   ]
  },
  {
   "cell_type": "code",
   "execution_count": 100,
   "metadata": {},
   "outputs": [],
   "source": [
    "# The following lines generates all 2**n input combinations\n",
    "input_states = np.empty((2**n, n), dtype=bool)\n",
    "for i in range(2**n):\n",
    "    input_states[i, :] = np.array(list(bin(i)[2:].zfill(n)), dtype=int).astype(bool)\n"
   ]
  },
  {
   "cell_type": "markdown",
   "metadata": {},
   "source": [
    "This cell verifies that there are no redundant inputs in the list"
   ]
  },
  {
   "cell_type": "code",
   "execution_count": 101,
   "metadata": {},
   "outputs": [],
   "source": [
    "test_list = []\n",
    "for input_state in input_states:\n",
    "    test_list.append(int(\"\".join(input_state.astype(int).astype(str)), 2))\n",
    "\n",
    "cur_length = len(test_list)\n",
    "actual_unique_lenght = len(set(test_list))\n",
    "if not (cur_length == actual_unique_lenght):\n",
    "    print(\"There is a mistake in the generator function\")"
   ]
  },
  {
   "cell_type": "markdown",
   "metadata": {},
   "source": [
    "Finaly the circuit is tested by running the simulation for every possible input combination. The results are stored in a pandas dataframe and saved to a csv file in the current working directory with filename \"popcount_QPE_analysis_n{n}.csv\" ({n} depends on n)"
   ]
  },
  {
   "cell_type": "code",
   "execution_count": 102,
   "metadata": {},
   "outputs": [
    {
     "data": {
      "text/plain": [
       "array([3, 2, 1])"
      ]
     },
     "execution_count": 102,
     "metadata": {},
     "output_type": "execute_result"
    }
   ],
   "source": [
    "np.flip(np.array([1,2,3]))"
   ]
  },
  {
   "cell_type": "code",
   "execution_count": 103,
   "metadata": {},
   "outputs": [
    {
     "data": {
      "text/html": [
       "<div>\n",
       "<style scoped>\n",
       "    .dataframe tbody tr th:only-of-type {\n",
       "        vertical-align: middle;\n",
       "    }\n",
       "\n",
       "    .dataframe tbody tr th {\n",
       "        vertical-align: top;\n",
       "    }\n",
       "\n",
       "    .dataframe thead th {\n",
       "        text-align: right;\n",
       "    }\n",
       "</style>\n",
       "<table border=\"1\" class=\"dataframe\">\n",
       "  <thead>\n",
       "    <tr style=\"text-align: right;\">\n",
       "      <th></th>\n",
       "      <th>Input_dec</th>\n",
       "      <th>Input_bin</th>\n",
       "      <th>Hamming_weight</th>\n",
       "      <th>Expected_output</th>\n",
       "      <th>Measured_result</th>\n",
       "    </tr>\n",
       "  </thead>\n",
       "  <tbody>\n",
       "    <tr>\n",
       "      <th>0</th>\n",
       "      <td>0</td>\n",
       "      <td>0000</td>\n",
       "      <td>0</td>\n",
       "      <td>0</td>\n",
       "      <td>1</td>\n",
       "    </tr>\n",
       "    <tr>\n",
       "      <th>1</th>\n",
       "      <td>1</td>\n",
       "      <td>0001</td>\n",
       "      <td>1</td>\n",
       "      <td>0</td>\n",
       "      <td>1</td>\n",
       "    </tr>\n",
       "    <tr>\n",
       "      <th>2</th>\n",
       "      <td>2</td>\n",
       "      <td>0010</td>\n",
       "      <td>1</td>\n",
       "      <td>0</td>\n",
       "      <td>0</td>\n",
       "    </tr>\n",
       "    <tr>\n",
       "      <th>3</th>\n",
       "      <td>3</td>\n",
       "      <td>0011</td>\n",
       "      <td>2</td>\n",
       "      <td>0</td>\n",
       "      <td>0</td>\n",
       "    </tr>\n",
       "    <tr>\n",
       "      <th>4</th>\n",
       "      <td>4</td>\n",
       "      <td>0100</td>\n",
       "      <td>1</td>\n",
       "      <td>0</td>\n",
       "      <td>1</td>\n",
       "    </tr>\n",
       "    <tr>\n",
       "      <th>5</th>\n",
       "      <td>5</td>\n",
       "      <td>0101</td>\n",
       "      <td>2</td>\n",
       "      <td>0</td>\n",
       "      <td>1</td>\n",
       "    </tr>\n",
       "    <tr>\n",
       "      <th>6</th>\n",
       "      <td>6</td>\n",
       "      <td>0110</td>\n",
       "      <td>2</td>\n",
       "      <td>0</td>\n",
       "      <td>1</td>\n",
       "    </tr>\n",
       "    <tr>\n",
       "      <th>7</th>\n",
       "      <td>7</td>\n",
       "      <td>0111</td>\n",
       "      <td>3</td>\n",
       "      <td>0</td>\n",
       "      <td>1</td>\n",
       "    </tr>\n",
       "    <tr>\n",
       "      <th>8</th>\n",
       "      <td>8</td>\n",
       "      <td>1000</td>\n",
       "      <td>1</td>\n",
       "      <td>0</td>\n",
       "      <td>1</td>\n",
       "    </tr>\n",
       "    <tr>\n",
       "      <th>9</th>\n",
       "      <td>9</td>\n",
       "      <td>1001</td>\n",
       "      <td>2</td>\n",
       "      <td>0</td>\n",
       "      <td>1</td>\n",
       "    </tr>\n",
       "    <tr>\n",
       "      <th>10</th>\n",
       "      <td>10</td>\n",
       "      <td>1010</td>\n",
       "      <td>2</td>\n",
       "      <td>0</td>\n",
       "      <td>0</td>\n",
       "    </tr>\n",
       "    <tr>\n",
       "      <th>11</th>\n",
       "      <td>11</td>\n",
       "      <td>1011</td>\n",
       "      <td>3</td>\n",
       "      <td>0</td>\n",
       "      <td>0</td>\n",
       "    </tr>\n",
       "    <tr>\n",
       "      <th>12</th>\n",
       "      <td>12</td>\n",
       "      <td>1100</td>\n",
       "      <td>2</td>\n",
       "      <td>0</td>\n",
       "      <td>1</td>\n",
       "    </tr>\n",
       "    <tr>\n",
       "      <th>13</th>\n",
       "      <td>13</td>\n",
       "      <td>1101</td>\n",
       "      <td>3</td>\n",
       "      <td>0</td>\n",
       "      <td>1</td>\n",
       "    </tr>\n",
       "    <tr>\n",
       "      <th>14</th>\n",
       "      <td>14</td>\n",
       "      <td>1110</td>\n",
       "      <td>3</td>\n",
       "      <td>0</td>\n",
       "      <td>1</td>\n",
       "    </tr>\n",
       "    <tr>\n",
       "      <th>15</th>\n",
       "      <td>15</td>\n",
       "      <td>1111</td>\n",
       "      <td>4</td>\n",
       "      <td>1</td>\n",
       "      <td>0</td>\n",
       "    </tr>\n",
       "  </tbody>\n",
       "</table>\n",
       "</div>"
      ],
      "text/plain": [
       "    Input_dec Input_bin  Hamming_weight  Expected_output  Measured_result\n",
       "0           0      0000               0                0                1\n",
       "1           1      0001               1                0                1\n",
       "2           2      0010               1                0                0\n",
       "3           3      0011               2                0                0\n",
       "4           4      0100               1                0                1\n",
       "5           5      0101               2                0                1\n",
       "6           6      0110               2                0                1\n",
       "7           7      0111               3                0                1\n",
       "8           8      1000               1                0                1\n",
       "9           9      1001               2                0                1\n",
       "10         10      1010               2                0                0\n",
       "11         11      1011               3                0                0\n",
       "12         12      1100               2                0                1\n",
       "13         13      1101               3                0                1\n",
       "14         14      1110               3                0                1\n",
       "15         15      1111               4                1                0"
      ]
     },
     "execution_count": 103,
     "metadata": {},
     "output_type": "execute_result"
    }
   ],
   "source": [
    "results = {\"Input_dec\" : [], \"Input_bin\" : [], \"Hamming_weight\" : [], \"Expected_output\" : [], \"Measured_result\" : []}\n",
    "for input_state in input_states:\n",
    "    cur_input_decimal = int(\"\".join(input_state.astype(int).astype(str)), 2)\n",
    "    cur_hamming_weight = np.sum(input_state.astype(int))\n",
    "    # Here the output bit is determined by checking if the hamming weight value has the second bit set to 1\n",
    "    expected_output = int(bin(np.sum(input_state.astype(int)))[2:].zfill(n)[-3])\n",
    "    # Instantiate the registers and circuit objects\n",
    "    cur_qreg = QuantumRegister(n, name=\"z\")\n",
    "    cur_qreg_result = QuantumRegister(1, name=\"y_3\")\n",
    "    cur_creg = ClassicalRegister(1, name=\"result\")\n",
    "    cur_qc = QuantumCircuit(qreg, cur_qreg_result, cur_creg)\n",
    "    # Prepare current input state\n",
    "    prepare_input_state(input_state, cur_qreg, cur_qc)\n",
    "    # Create circuit\n",
    "    quad_cnot(cur_qreg, cur_qreg_result, cur_creg, cur_qc)\n",
    "    # Instantiate the primitive simulator and run experimenbt with 500 shots\n",
    "    result = Sampler().run([cur_qc], shots=500).result()\n",
    "    # Format experiment result such that it can be trasnsformed into a pandas dataframe\n",
    "    results[\"Input_dec\"].append(cur_input_decimal)\n",
    "    results[\"Input_bin\"].append(\"\".join(input_state.astype(int).astype(str)))\n",
    "    results[\"Hamming_weight\"].append(cur_hamming_weight)\n",
    "    results[\"Expected_output\"].append(expected_output)\n",
    "    # Log thge measured result. If the final state is stochastic, then 0.5 is logged to indicate the error\n",
    "    measured_keys = result.quasi_dists[0].keys()\n",
    "    if list(measured_keys)[0] == 1:\n",
    "        cur_qc.draw('mpl')\n",
    "    if len(measured_keys) > 1:\n",
    "        results[\"Measured_result\"].append(1/2)\n",
    "    else:\n",
    "        results[\"Measured_result\"].append(list(measured_keys)[0])\n",
    "\n",
    "results_df = pd.DataFrame(results)\n",
    "results_df.to_csv(f\"popcount_QPE_analysis_n{n}.csv\")\n",
    "results_df"
   ]
  },
  {
   "cell_type": "code",
   "execution_count": 104,
   "metadata": {},
   "outputs": [
    {
     "data": {
      "image/png": "[encoded data removed]",
      "text/plain": [
       "<Figure size 835.028x535.111 with 1 Axes>"
      ]
     },
     "execution_count": 104,
     "metadata": {},
     "output_type": "execute_result"
    }
   ],
   "source": [
    "cur_qc.draw(\"mpl\")"
   ]
  },
  {
   "cell_type": "markdown",
   "metadata": {},
   "source": [
    "The outputs can now be verified by aggregating over the measured result and expected result by taking the mean over all cases where the hamming weight is equal. If the expected and measured results match, then the circuit is working."
   ]
  },
  {
   "cell_type": "code",
   "execution_count": 105,
   "metadata": {},
   "outputs": [
    {
     "data": {
      "text/html": [
       "<div>\n",
       "<style scoped>\n",
       "    .dataframe tbody tr th:only-of-type {\n",
       "        vertical-align: middle;\n",
       "    }\n",
       "\n",
       "    .dataframe tbody tr th {\n",
       "        vertical-align: top;\n",
       "    }\n",
       "\n",
       "    .dataframe thead th {\n",
       "        text-align: right;\n",
       "    }\n",
       "</style>\n",
       "<table border=\"1\" class=\"dataframe\">\n",
       "  <thead>\n",
       "    <tr style=\"text-align: right;\">\n",
       "      <th></th>\n",
       "      <th>Expected_output</th>\n",
       "      <th>Measured_result</th>\n",
       "    </tr>\n",
       "    <tr>\n",
       "      <th>Hamming_weight</th>\n",
       "      <th></th>\n",
       "      <th></th>\n",
       "    </tr>\n",
       "  </thead>\n",
       "  <tbody>\n",
       "    <tr>\n",
       "      <th>0</th>\n",
       "      <td>0.0</td>\n",
       "      <td>1.000000</td>\n",
       "    </tr>\n",
       "    <tr>\n",
       "      <th>1</th>\n",
       "      <td>0.0</td>\n",
       "      <td>0.750000</td>\n",
       "    </tr>\n",
       "    <tr>\n",
       "      <th>2</th>\n",
       "      <td>0.0</td>\n",
       "      <td>0.666667</td>\n",
       "    </tr>\n",
       "    <tr>\n",
       "      <th>3</th>\n",
       "      <td>0.0</td>\n",
       "      <td>0.750000</td>\n",
       "    </tr>\n",
       "    <tr>\n",
       "      <th>4</th>\n",
       "      <td>1.0</td>\n",
       "      <td>0.000000</td>\n",
       "    </tr>\n",
       "  </tbody>\n",
       "</table>\n",
       "</div>"
      ],
      "text/plain": [
       "                Expected_output  Measured_result\n",
       "Hamming_weight                                  \n",
       "0                           0.0         1.000000\n",
       "1                           0.0         0.750000\n",
       "2                           0.0         0.666667\n",
       "3                           0.0         0.750000\n",
       "4                           1.0         0.000000"
      ]
     },
     "execution_count": 105,
     "metadata": {},
     "output_type": "execute_result"
    }
   ],
   "source": [
    "results_df.groupby([\"Hamming_weight\"])[[\"Expected_output\", \"Measured_result\"]].mean()"
   ]
  },
  {
   "cell_type": "code",
   "execution_count": null,
   "metadata": {},
   "outputs": [],
   "source": []
  }
 ],
 "metadata": {
  "kernelspec": {
   "display_name": ".venv",
   "language": "python",
   "name": "python3"
  },
  "language_info": {
   "codemirror_mode": {
    "name": "ipython",
    "version": 3
   },
   "file_extension": ".py",
   "mimetype": "text/x-python",
   "name": "python",
   "nbconvert_exporter": "python",
   "pygments_lexer": "ipython3",
   "version": "3.9.13"
  }
 },
 "nbformat": 4,
 "nbformat_minor": 2
}
